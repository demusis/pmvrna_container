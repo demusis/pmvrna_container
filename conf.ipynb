{
 "cells": [
  {
   "cell_type": "markdown",
   "metadata": {},
   "source": [
    "# Liga cronometro"
   ]
  },
  {
   "cell_type": "code",
   "execution_count": 1,
   "metadata": {},
   "outputs": [],
   "source": [
    "from time import perf_counter \n",
    "inicio = perf_counter()"
   ]
  },
  {
   "cell_type": "markdown",
   "metadata": {},
   "source": [
    "## Dados de entrada"
   ]
  },
  {
   "cell_type": "code",
   "execution_count": 2,
   "metadata": {},
   "outputs": [],
   "source": [
    "import pandas as pd"
   ]
  },
  {
   "cell_type": "code",
   "execution_count": 3,
   "metadata": {},
   "outputs": [],
   "source": [
    "# dados = pd.read_excel('var_comf.xlsx')\n",
    "dados = pd.read_csv('var_comf.csv')"
   ]
  },
  {
   "cell_type": "code",
   "execution_count": 4,
   "metadata": {},
   "outputs": [
    {
     "data": {
      "text/html": [
       "<div>\n",
       "<style scoped>\n",
       "    .dataframe tbody tr th:only-of-type {\n",
       "        vertical-align: middle;\n",
       "    }\n",
       "\n",
       "    .dataframe tbody tr th {\n",
       "        vertical-align: top;\n",
       "    }\n",
       "\n",
       "    .dataframe thead th {\n",
       "        text-align: right;\n",
       "    }\n",
       "</style>\n",
       "<table border=\"1\" class=\"dataframe\">\n",
       "  <thead>\n",
       "    <tr style=\"text-align: right;\">\n",
       "      <th></th>\n",
       "      <th>Unnamed: 0</th>\n",
       "      <th>ta</th>\n",
       "      <th>tr</th>\n",
       "      <th>vel</th>\n",
       "      <th>rh</th>\n",
       "      <th>et</th>\n",
       "      <th>set</th>\n",
       "      <th>tsens</th>\n",
       "      <th>disc</th>\n",
       "      <th>pd</th>\n",
       "      <th>ps</th>\n",
       "      <th>pts</th>\n",
       "      <th>pmvg</th>\n",
       "      <th>pmvstar</th>\n",
       "    </tr>\n",
       "  </thead>\n",
       "  <tbody>\n",
       "    <tr>\n",
       "      <th>0</th>\n",
       "      <td>1</td>\n",
       "      <td>22.009322</td>\n",
       "      <td>24.918324</td>\n",
       "      <td>-0.532717</td>\n",
       "      <td>67.348226</td>\n",
       "      <td>23.866729</td>\n",
       "      <td>22.825691</td>\n",
       "      <td>-0.055005</td>\n",
       "      <td>0.000000</td>\n",
       "      <td>8.589865</td>\n",
       "      <td>56.258320</td>\n",
       "      <td>-0.323577</td>\n",
       "      <td>-0.037372</td>\n",
       "      <td>-0.002219</td>\n",
       "    </tr>\n",
       "    <tr>\n",
       "      <th>1</th>\n",
       "      <td>2</td>\n",
       "      <td>28.867893</td>\n",
       "      <td>22.584649</td>\n",
       "      <td>0.340309</td>\n",
       "      <td>46.376891</td>\n",
       "      <td>25.967170</td>\n",
       "      <td>23.410143</td>\n",
       "      <td>-0.002241</td>\n",
       "      <td>0.002331</td>\n",
       "      <td>19.430093</td>\n",
       "      <td>77.493906</td>\n",
       "      <td>-0.177464</td>\n",
       "      <td>0.031756</td>\n",
       "      <td>-0.081892</td>\n",
       "    </tr>\n",
       "    <tr>\n",
       "      <th>2</th>\n",
       "      <td>3</td>\n",
       "      <td>23.173539</td>\n",
       "      <td>23.307901</td>\n",
       "      <td>-0.232876</td>\n",
       "      <td>66.941346</td>\n",
       "      <td>23.440703</td>\n",
       "      <td>22.379056</td>\n",
       "      <td>-0.080457</td>\n",
       "      <td>0.000000</td>\n",
       "      <td>7.755845</td>\n",
       "      <td>62.306999</td>\n",
       "      <td>-0.435236</td>\n",
       "      <td>-0.076198</td>\n",
       "      <td>-0.021384</td>\n",
       "    </tr>\n",
       "    <tr>\n",
       "      <th>3</th>\n",
       "      <td>4</td>\n",
       "      <td>24.319086</td>\n",
       "      <td>18.923142</td>\n",
       "      <td>0.539211</td>\n",
       "      <td>42.785042</td>\n",
       "      <td>22.095171</td>\n",
       "      <td>18.155481</td>\n",
       "      <td>-0.485016</td>\n",
       "      <td>0.000000</td>\n",
       "      <td>68.958440</td>\n",
       "      <td>145.361248</td>\n",
       "      <td>-1.491130</td>\n",
       "      <td>-0.664847</td>\n",
       "      <td>-0.864043</td>\n",
       "    </tr>\n",
       "    <tr>\n",
       "      <th>4</th>\n",
       "      <td>5</td>\n",
       "      <td>22.550878</td>\n",
       "      <td>24.236664</td>\n",
       "      <td>0.984487</td>\n",
       "      <td>54.880720</td>\n",
       "      <td>23.146186</td>\n",
       "      <td>18.269806</td>\n",
       "      <td>-0.497252</td>\n",
       "      <td>0.000000</td>\n",
       "      <td>194.256672</td>\n",
       "      <td>158.888353</td>\n",
       "      <td>-1.462549</td>\n",
       "      <td>-0.646519</td>\n",
       "      <td>-0.889366</td>\n",
       "    </tr>\n",
       "  </tbody>\n",
       "</table>\n",
       "</div>"
      ],
      "text/plain": [
       "   Unnamed: 0         ta         tr       vel         rh         et  \\\n",
       "0           1  22.009322  24.918324 -0.532717  67.348226  23.866729   \n",
       "1           2  28.867893  22.584649  0.340309  46.376891  25.967170   \n",
       "2           3  23.173539  23.307901 -0.232876  66.941346  23.440703   \n",
       "3           4  24.319086  18.923142  0.539211  42.785042  22.095171   \n",
       "4           5  22.550878  24.236664  0.984487  54.880720  23.146186   \n",
       "\n",
       "         set     tsens      disc          pd          ps       pts      pmvg  \\\n",
       "0  22.825691 -0.055005  0.000000    8.589865   56.258320 -0.323577 -0.037372   \n",
       "1  23.410143 -0.002241  0.002331   19.430093   77.493906 -0.177464  0.031756   \n",
       "2  22.379056 -0.080457  0.000000    7.755845   62.306999 -0.435236 -0.076198   \n",
       "3  18.155481 -0.485016  0.000000   68.958440  145.361248 -1.491130 -0.664847   \n",
       "4  18.269806 -0.497252  0.000000  194.256672  158.888353 -1.462549 -0.646519   \n",
       "\n",
       "    pmvstar  \n",
       "0 -0.002219  \n",
       "1 -0.081892  \n",
       "2 -0.021384  \n",
       "3 -0.864043  \n",
       "4 -0.889366  "
      ]
     },
     "execution_count": 4,
     "metadata": {},
     "output_type": "execute_result"
    }
   ],
   "source": [
    "dados.head()"
   ]
  },
  {
   "cell_type": "code",
   "execution_count": 5,
   "metadata": {},
   "outputs": [
    {
     "data": {
      "text/html": [
       "<div>\n",
       "<style scoped>\n",
       "    .dataframe tbody tr th:only-of-type {\n",
       "        vertical-align: middle;\n",
       "    }\n",
       "\n",
       "    .dataframe tbody tr th {\n",
       "        vertical-align: top;\n",
       "    }\n",
       "\n",
       "    .dataframe thead th {\n",
       "        text-align: right;\n",
       "    }\n",
       "</style>\n",
       "<table border=\"1\" class=\"dataframe\">\n",
       "  <thead>\n",
       "    <tr style=\"text-align: right;\">\n",
       "      <th></th>\n",
       "      <th>count</th>\n",
       "      <th>mean</th>\n",
       "      <th>std</th>\n",
       "      <th>min</th>\n",
       "      <th>25%</th>\n",
       "      <th>50%</th>\n",
       "      <th>75%</th>\n",
       "      <th>max</th>\n",
       "    </tr>\n",
       "  </thead>\n",
       "  <tbody>\n",
       "    <tr>\n",
       "      <th>Unnamed: 0</th>\n",
       "      <td>150.0</td>\n",
       "      <td>75.500000</td>\n",
       "      <td>43.445368</td>\n",
       "      <td>1.000000</td>\n",
       "      <td>38.250000</td>\n",
       "      <td>75.500000</td>\n",
       "      <td>112.750000</td>\n",
       "      <td>150.000000</td>\n",
       "    </tr>\n",
       "    <tr>\n",
       "      <th>ta</th>\n",
       "      <td>150.0</td>\n",
       "      <td>22.904018</td>\n",
       "      <td>3.354546</td>\n",
       "      <td>13.866622</td>\n",
       "      <td>20.681148</td>\n",
       "      <td>22.789670</td>\n",
       "      <td>25.275109</td>\n",
       "      <td>30.141581</td>\n",
       "    </tr>\n",
       "    <tr>\n",
       "      <th>tr</th>\n",
       "      <td>150.0</td>\n",
       "      <td>23.866741</td>\n",
       "      <td>3.278672</td>\n",
       "      <td>15.589025</td>\n",
       "      <td>21.689947</td>\n",
       "      <td>23.787180</td>\n",
       "      <td>25.618669</td>\n",
       "      <td>33.048062</td>\n",
       "    </tr>\n",
       "    <tr>\n",
       "      <th>vel</th>\n",
       "      <td>150.0</td>\n",
       "      <td>0.249299</td>\n",
       "      <td>0.491247</td>\n",
       "      <td>-1.297657</td>\n",
       "      <td>-0.069528</td>\n",
       "      <td>0.233827</td>\n",
       "      <td>0.568560</td>\n",
       "      <td>1.392951</td>\n",
       "    </tr>\n",
       "    <tr>\n",
       "      <th>rh</th>\n",
       "      <td>150.0</td>\n",
       "      <td>60.850833</td>\n",
       "      <td>18.418496</td>\n",
       "      <td>18.156281</td>\n",
       "      <td>47.754310</td>\n",
       "      <td>59.512277</td>\n",
       "      <td>72.333401</td>\n",
       "      <td>116.688260</td>\n",
       "    </tr>\n",
       "    <tr>\n",
       "      <th>et</th>\n",
       "      <td>150.0</td>\n",
       "      <td>23.572456</td>\n",
       "      <td>2.629706</td>\n",
       "      <td>15.239219</td>\n",
       "      <td>22.002061</td>\n",
       "      <td>23.495198</td>\n",
       "      <td>25.340375</td>\n",
       "      <td>31.095601</td>\n",
       "    </tr>\n",
       "    <tr>\n",
       "      <th>set</th>\n",
       "      <td>150.0</td>\n",
       "      <td>21.076027</td>\n",
       "      <td>3.332182</td>\n",
       "      <td>7.645193</td>\n",
       "      <td>18.749873</td>\n",
       "      <td>21.414899</td>\n",
       "      <td>23.409707</td>\n",
       "      <td>30.654502</td>\n",
       "    </tr>\n",
       "    <tr>\n",
       "      <th>tsens</th>\n",
       "      <td>150.0</td>\n",
       "      <td>-0.177733</td>\n",
       "      <td>0.399702</td>\n",
       "      <td>-1.459832</td>\n",
       "      <td>-0.416325</td>\n",
       "      <td>-0.161832</td>\n",
       "      <td>-0.012353</td>\n",
       "      <td>1.501537</td>\n",
       "    </tr>\n",
       "    <tr>\n",
       "      <th>disc</th>\n",
       "      <td>150.0</td>\n",
       "      <td>0.045002</td>\n",
       "      <td>0.369286</td>\n",
       "      <td>-1.459832</td>\n",
       "      <td>0.000000</td>\n",
       "      <td>0.000000</td>\n",
       "      <td>0.000000</td>\n",
       "      <td>1.883189</td>\n",
       "    </tr>\n",
       "    <tr>\n",
       "      <th>pd</th>\n",
       "      <td>150.0</td>\n",
       "      <td>58.957506</td>\n",
       "      <td>81.406192</td>\n",
       "      <td>2.825121</td>\n",
       "      <td>9.258986</td>\n",
       "      <td>21.859606</td>\n",
       "      <td>77.093134</td>\n",
       "      <td>448.326244</td>\n",
       "    </tr>\n",
       "    <tr>\n",
       "      <th>ps</th>\n",
       "      <td>150.0</td>\n",
       "      <td>97.157643</td>\n",
       "      <td>48.625797</td>\n",
       "      <td>-42.636552</td>\n",
       "      <td>60.955341</td>\n",
       "      <td>92.569871</td>\n",
       "      <td>132.500442</td>\n",
       "      <td>245.787803</td>\n",
       "    </tr>\n",
       "    <tr>\n",
       "      <th>pts</th>\n",
       "      <td>150.0</td>\n",
       "      <td>-0.760993</td>\n",
       "      <td>0.833045</td>\n",
       "      <td>-4.118702</td>\n",
       "      <td>-1.342532</td>\n",
       "      <td>-0.676275</td>\n",
       "      <td>-0.177573</td>\n",
       "      <td>1.633625</td>\n",
       "    </tr>\n",
       "    <tr>\n",
       "      <th>pmvg</th>\n",
       "      <td>150.0</td>\n",
       "      <td>-0.234247</td>\n",
       "      <td>0.559722</td>\n",
       "      <td>-2.090604</td>\n",
       "      <td>-0.584166</td>\n",
       "      <td>-0.186462</td>\n",
       "      <td>0.020414</td>\n",
       "      <td>2.021470</td>\n",
       "    </tr>\n",
       "    <tr>\n",
       "      <th>pmvstar</th>\n",
       "      <td>150.0</td>\n",
       "      <td>-0.294088</td>\n",
       "      <td>0.623088</td>\n",
       "      <td>-2.305526</td>\n",
       "      <td>-0.650772</td>\n",
       "      <td>-0.243946</td>\n",
       "      <td>0.034887</td>\n",
       "      <td>1.969982</td>\n",
       "    </tr>\n",
       "  </tbody>\n",
       "</table>\n",
       "</div>"
      ],
      "text/plain": [
       "            count       mean        std        min        25%        50%  \\\n",
       "Unnamed: 0  150.0  75.500000  43.445368   1.000000  38.250000  75.500000   \n",
       "ta          150.0  22.904018   3.354546  13.866622  20.681148  22.789670   \n",
       "tr          150.0  23.866741   3.278672  15.589025  21.689947  23.787180   \n",
       "vel         150.0   0.249299   0.491247  -1.297657  -0.069528   0.233827   \n",
       "rh          150.0  60.850833  18.418496  18.156281  47.754310  59.512277   \n",
       "et          150.0  23.572456   2.629706  15.239219  22.002061  23.495198   \n",
       "set         150.0  21.076027   3.332182   7.645193  18.749873  21.414899   \n",
       "tsens       150.0  -0.177733   0.399702  -1.459832  -0.416325  -0.161832   \n",
       "disc        150.0   0.045002   0.369286  -1.459832   0.000000   0.000000   \n",
       "pd          150.0  58.957506  81.406192   2.825121   9.258986  21.859606   \n",
       "ps          150.0  97.157643  48.625797 -42.636552  60.955341  92.569871   \n",
       "pts         150.0  -0.760993   0.833045  -4.118702  -1.342532  -0.676275   \n",
       "pmvg        150.0  -0.234247   0.559722  -2.090604  -0.584166  -0.186462   \n",
       "pmvstar     150.0  -0.294088   0.623088  -2.305526  -0.650772  -0.243946   \n",
       "\n",
       "                   75%         max  \n",
       "Unnamed: 0  112.750000  150.000000  \n",
       "ta           25.275109   30.141581  \n",
       "tr           25.618669   33.048062  \n",
       "vel           0.568560    1.392951  \n",
       "rh           72.333401  116.688260  \n",
       "et           25.340375   31.095601  \n",
       "set          23.409707   30.654502  \n",
       "tsens        -0.012353    1.501537  \n",
       "disc          0.000000    1.883189  \n",
       "pd           77.093134  448.326244  \n",
       "ps          132.500442  245.787803  \n",
       "pts          -0.177573    1.633625  \n",
       "pmvg          0.020414    2.021470  \n",
       "pmvstar       0.034887    1.969982  "
      ]
     },
     "execution_count": 5,
     "metadata": {},
     "output_type": "execute_result"
    }
   ],
   "source": [
    "dados.describe().transpose()"
   ]
  },
  {
   "cell_type": "code",
   "execution_count": 6,
   "metadata": {
    "scrolled": true
   },
   "outputs": [],
   "source": [
    "# x_data = dados.drop([' ', 'et', 'set', 'tsens', 'disc', 'pd', 'ps', 'pts', 'pmvg', 'pmvstar'],axis=1)\n",
    "x_data = dados[['ta', 'tr', 'vel', 'rh']]"
   ]
  },
  {
   "cell_type": "code",
   "execution_count": 7,
   "metadata": {},
   "outputs": [],
   "source": [
    "y_val = dados['pmvg']"
   ]
  },
  {
   "cell_type": "code",
   "execution_count": 8,
   "metadata": {},
   "outputs": [],
   "source": [
    "from sklearn.model_selection import train_test_split"
   ]
  },
  {
   "cell_type": "code",
   "execution_count": 9,
   "metadata": {},
   "outputs": [],
   "source": [
    "X_train, X_test, y_train, y_test = train_test_split(x_data,y_val,test_size=0.3,random_state=101)"
   ]
  },
  {
   "cell_type": "markdown",
   "metadata": {},
   "source": [
    "### Padronização"
   ]
  },
  {
   "cell_type": "code",
   "execution_count": 10,
   "metadata": {},
   "outputs": [],
   "source": [
    "from sklearn.preprocessing import MinMaxScaler"
   ]
  },
  {
   "cell_type": "code",
   "execution_count": 11,
   "metadata": {},
   "outputs": [],
   "source": [
    "scaler = MinMaxScaler()"
   ]
  },
  {
   "cell_type": "code",
   "execution_count": 12,
   "metadata": {},
   "outputs": [
    {
     "data": {
      "text/plain": [
       "MinMaxScaler(copy=True, feature_range=(0, 1))"
      ]
     },
     "execution_count": 12,
     "metadata": {},
     "output_type": "execute_result"
    }
   ],
   "source": [
    "scaler.fit(X_train)"
   ]
  },
  {
   "cell_type": "code",
   "execution_count": 13,
   "metadata": {},
   "outputs": [],
   "source": [
    "X_train = pd.DataFrame(data=scaler.transform(X_train),columns = X_train.columns,index=X_train.index)"
   ]
  },
  {
   "cell_type": "code",
   "execution_count": 14,
   "metadata": {},
   "outputs": [],
   "source": [
    "X_test = pd.DataFrame(data=scaler.transform(X_test),columns = X_test.columns,index=X_test.index)"
   ]
  },
  {
   "cell_type": "markdown",
   "metadata": {},
   "source": [
    "### Rede neural"
   ]
  },
  {
   "cell_type": "code",
   "execution_count": 15,
   "metadata": {},
   "outputs": [],
   "source": [
    "import tensorflow as tf"
   ]
  },
  {
   "cell_type": "code",
   "execution_count": 16,
   "metadata": {},
   "outputs": [],
   "source": [
    "import logging\n",
    "logging.getLogger(\"tensorflow\").setLevel(logging.ERROR)"
   ]
  },
  {
   "cell_type": "code",
   "execution_count": 17,
   "metadata": {},
   "outputs": [],
   "source": [
    "ta  = tf.feature_column.numeric_column('ta')\n",
    "tr  = tf.feature_column.numeric_column('tr')\n",
    "vel = tf.feature_column.numeric_column('vel')\n",
    "rh  = tf.feature_column.numeric_column('rh')"
   ]
  },
  {
   "cell_type": "code",
   "execution_count": 18,
   "metadata": {},
   "outputs": [],
   "source": [
    "feat_cols = [ta, tr, vel, rh]"
   ]
  },
  {
   "cell_type": "code",
   "execution_count": null,
   "metadata": {},
   "outputs": [],
   "source": []
  },
  {
   "cell_type": "code",
   "execution_count": 19,
   "metadata": {},
   "outputs": [
    {
     "name": "stdout",
     "output_type": "stream",
     "text": [
      "2.0.0\n"
     ]
    }
   ],
   "source": [
    "print(tf.__version__)"
   ]
  },
  {
   "cell_type": "code",
   "execution_count": 20,
   "metadata": {},
   "outputs": [],
   "source": [
    "# Função de entrada -> Portar para a versão 2.0.0\n",
    "input_func = tf.compat.v1.estimator.inputs.pandas_input_fn(x=X_train, y=y_train, batch_size=10, num_epochs=1000, shuffle=True)"
   ]
  },
  {
   "cell_type": "code",
   "execution_count": 21,
   "metadata": {},
   "outputs": [],
   "source": [
    "# Define estimador\n",
    "model = tf.estimator.DNNRegressor(hidden_units=[30, 100, 100, 30],feature_columns=feat_cols)"
   ]
  },
  {
   "cell_type": "code",
   "execution_count": 22,
   "metadata": {
    "scrolled": true
   },
   "outputs": [
    {
     "data": {
      "text/plain": [
       "<tensorflow_estimator.python.estimator.canned.dnn.DNNRegressorV2 at 0x25aa1c5dc50>"
      ]
     },
     "execution_count": 22,
     "metadata": {},
     "output_type": "execute_result"
    }
   ],
   "source": [
    "# Treinando o modelo\n",
    "model.train(input_fn=input_func,steps=25000)"
   ]
  },
  {
   "cell_type": "markdown",
   "metadata": {},
   "source": [
    "### Aplicando e avaliando o modelo na amostra de treino"
   ]
  },
  {
   "cell_type": "code",
   "execution_count": 23,
   "metadata": {},
   "outputs": [
    {
     "data": {
      "text/plain": [
       "105"
      ]
     },
     "execution_count": 23,
     "metadata": {},
     "output_type": "execute_result"
    }
   ],
   "source": [
    "len(X_train)"
   ]
  },
  {
   "cell_type": "code",
   "execution_count": 24,
   "metadata": {},
   "outputs": [
    {
     "data": {
      "text/plain": [
       "105"
      ]
     },
     "execution_count": 24,
     "metadata": {},
     "output_type": "execute_result"
    }
   ],
   "source": [
    "len(y_train)"
   ]
  },
  {
   "cell_type": "code",
   "execution_count": 25,
   "metadata": {},
   "outputs": [],
   "source": [
    "predict_input_func_treino = tf.compat.v1.estimator.inputs.pandas_input_fn(x=X_train, batch_size=10, num_epochs=1, shuffle=False)"
   ]
  },
  {
   "cell_type": "code",
   "execution_count": 26,
   "metadata": {},
   "outputs": [],
   "source": [
    "pred_gen_treino = model.predict(predict_input_func_treino)"
   ]
  },
  {
   "cell_type": "code",
   "execution_count": 27,
   "metadata": {},
   "outputs": [],
   "source": [
    "predictions = list(pred_gen_treino)"
   ]
  },
  {
   "cell_type": "code",
   "execution_count": 28,
   "metadata": {},
   "outputs": [],
   "source": [
    "final_preds = []\n",
    "for pred in predictions:\n",
    "    final_preds.append(pred['predictions'][0])"
   ]
  },
  {
   "cell_type": "code",
   "execution_count": 29,
   "metadata": {},
   "outputs": [],
   "source": [
    "from sklearn.metrics import median_absolute_error, r2_score"
   ]
  },
  {
   "cell_type": "code",
   "execution_count": 30,
   "metadata": {},
   "outputs": [
    {
     "data": {
      "text/html": [
       "<div>\n",
       "<style scoped>\n",
       "    .dataframe tbody tr th:only-of-type {\n",
       "        vertical-align: middle;\n",
       "    }\n",
       "\n",
       "    .dataframe tbody tr th {\n",
       "        vertical-align: top;\n",
       "    }\n",
       "\n",
       "    .dataframe thead th {\n",
       "        text-align: right;\n",
       "    }\n",
       "</style>\n",
       "<table border=\"1\" class=\"dataframe\">\n",
       "  <thead>\n",
       "    <tr style=\"text-align: right;\">\n",
       "      <th></th>\n",
       "      <th>ta</th>\n",
       "      <th>tr</th>\n",
       "      <th>vel</th>\n",
       "      <th>rh</th>\n",
       "      <th>pmvg_est</th>\n",
       "      <th>pmvg</th>\n",
       "    </tr>\n",
       "  </thead>\n",
       "  <tbody>\n",
       "    <tr>\n",
       "      <th>13</th>\n",
       "      <td>0.580840</td>\n",
       "      <td>0.456573</td>\n",
       "      <td>0.675392</td>\n",
       "      <td>0.506063</td>\n",
       "      <td>-0.429385</td>\n",
       "      <td>-0.425102</td>\n",
       "    </tr>\n",
       "    <tr>\n",
       "      <th>102</th>\n",
       "      <td>0.676664</td>\n",
       "      <td>0.347735</td>\n",
       "      <td>0.148057</td>\n",
       "      <td>0.275927</td>\n",
       "      <td>-0.003960</td>\n",
       "      <td>-0.119385</td>\n",
       "    </tr>\n",
       "    <tr>\n",
       "      <th>67</th>\n",
       "      <td>0.624846</td>\n",
       "      <td>0.490115</td>\n",
       "      <td>0.389848</td>\n",
       "      <td>0.507733</td>\n",
       "      <td>0.099354</td>\n",
       "      <td>0.024559</td>\n",
       "    </tr>\n",
       "    <tr>\n",
       "      <th>34</th>\n",
       "      <td>0.489663</td>\n",
       "      <td>0.382493</td>\n",
       "      <td>0.628021</td>\n",
       "      <td>0.800314</td>\n",
       "      <td>-0.511791</td>\n",
       "      <td>-0.556970</td>\n",
       "    </tr>\n",
       "    <tr>\n",
       "      <th>98</th>\n",
       "      <td>0.848655</td>\n",
       "      <td>0.516771</td>\n",
       "      <td>0.081011</td>\n",
       "      <td>0.708166</td>\n",
       "      <td>0.541918</td>\n",
       "      <td>0.703390</td>\n",
       "    </tr>\n",
       "  </tbody>\n",
       "</table>\n",
       "</div>"
      ],
      "text/plain": [
       "           ta        tr       vel        rh  pmvg_est      pmvg\n",
       "13   0.580840  0.456573  0.675392  0.506063 -0.429385 -0.425102\n",
       "102  0.676664  0.347735  0.148057  0.275927 -0.003960 -0.119385\n",
       "67   0.624846  0.490115  0.389848  0.507733  0.099354  0.024559\n",
       "34   0.489663  0.382493  0.628021  0.800314 -0.511791 -0.556970\n",
       "98   0.848655  0.516771  0.081011  0.708166  0.541918  0.703390"
      ]
     },
     "execution_count": 30,
     "metadata": {},
     "output_type": "execute_result"
    }
   ],
   "source": [
    "data_treino = X_train\n",
    "data_treino['pmvg_est'] = final_preds\n",
    "data_treino['pmvg'] = y_train\n",
    "data_treino.head()"
   ]
  },
  {
   "cell_type": "code",
   "execution_count": 31,
   "metadata": {},
   "outputs": [
    {
     "data": {
      "text/plain": [
       "0.07751880663411365"
      ]
     },
     "execution_count": 31,
     "metadata": {},
     "output_type": "execute_result"
    }
   ],
   "source": [
    "median_absolute_error(data_treino['pmvg_est'], data_treino['pmvg'])"
   ]
  },
  {
   "cell_type": "markdown",
   "metadata": {},
   "source": [
    "### Aplicando o modelo na amostra de teste"
   ]
  },
  {
   "cell_type": "code",
   "execution_count": 32,
   "metadata": {},
   "outputs": [
    {
     "data": {
      "text/plain": [
       "pandas.core.frame.DataFrame"
      ]
     },
     "execution_count": 32,
     "metadata": {},
     "output_type": "execute_result"
    }
   ],
   "source": [
    "type(X_test)"
   ]
  },
  {
   "cell_type": "code",
   "execution_count": 33,
   "metadata": {},
   "outputs": [
    {
     "data": {
      "text/plain": [
       "45"
      ]
     },
     "execution_count": 33,
     "metadata": {},
     "output_type": "execute_result"
    }
   ],
   "source": [
    "len(X_test)"
   ]
  },
  {
   "cell_type": "code",
   "execution_count": 34,
   "metadata": {},
   "outputs": [
    {
     "data": {
      "text/plain": [
       "pandas.core.series.Series"
      ]
     },
     "execution_count": 34,
     "metadata": {},
     "output_type": "execute_result"
    }
   ],
   "source": [
    "type(y_test)"
   ]
  },
  {
   "cell_type": "code",
   "execution_count": 35,
   "metadata": {},
   "outputs": [
    {
     "data": {
      "text/plain": [
       "45"
      ]
     },
     "execution_count": 35,
     "metadata": {},
     "output_type": "execute_result"
    }
   ],
   "source": [
    "len(y_test)"
   ]
  },
  {
   "cell_type": "code",
   "execution_count": 36,
   "metadata": {},
   "outputs": [],
   "source": [
    "predict_input_func_teste = tf.compat.v1.estimator.inputs.pandas_input_fn(x=X_test, batch_size=10, num_epochs=1, shuffle=False)"
   ]
  },
  {
   "cell_type": "code",
   "execution_count": 37,
   "metadata": {},
   "outputs": [],
   "source": [
    "pred_gen_teste = model.predict(predict_input_func_teste)"
   ]
  },
  {
   "cell_type": "code",
   "execution_count": 38,
   "metadata": {},
   "outputs": [],
   "source": [
    "pred_teste = list(pred_gen_teste)"
   ]
  },
  {
   "cell_type": "code",
   "execution_count": 39,
   "metadata": {},
   "outputs": [],
   "source": [
    "final_preds_teste = []\n",
    "for pred in pred_teste:\n",
    "    final_preds_teste.append(pred['predictions'][0])"
   ]
  },
  {
   "cell_type": "code",
   "execution_count": 40,
   "metadata": {},
   "outputs": [
    {
     "data": {
      "text/plain": [
       "list"
      ]
     },
     "execution_count": 40,
     "metadata": {},
     "output_type": "execute_result"
    }
   ],
   "source": [
    "type(final_preds_teste)"
   ]
  },
  {
   "cell_type": "code",
   "execution_count": 41,
   "metadata": {},
   "outputs": [
    {
     "data": {
      "text/html": [
       "<div>\n",
       "<style scoped>\n",
       "    .dataframe tbody tr th:only-of-type {\n",
       "        vertical-align: middle;\n",
       "    }\n",
       "\n",
       "    .dataframe tbody tr th {\n",
       "        vertical-align: top;\n",
       "    }\n",
       "\n",
       "    .dataframe thead th {\n",
       "        text-align: right;\n",
       "    }\n",
       "</style>\n",
       "<table border=\"1\" class=\"dataframe\">\n",
       "  <thead>\n",
       "    <tr style=\"text-align: right;\">\n",
       "      <th></th>\n",
       "      <th>ta</th>\n",
       "      <th>tr</th>\n",
       "      <th>vel</th>\n",
       "      <th>rh</th>\n",
       "    </tr>\n",
       "  </thead>\n",
       "  <tbody>\n",
       "    <tr>\n",
       "      <th>33</th>\n",
       "      <td>0.692642</td>\n",
       "      <td>0.333361</td>\n",
       "      <td>0.705758</td>\n",
       "      <td>0.618035</td>\n",
       "    </tr>\n",
       "    <tr>\n",
       "      <th>16</th>\n",
       "      <td>0.553586</td>\n",
       "      <td>0.263474</td>\n",
       "      <td>0.591273</td>\n",
       "      <td>0.280329</td>\n",
       "    </tr>\n",
       "    <tr>\n",
       "      <th>43</th>\n",
       "      <td>0.446348</td>\n",
       "      <td>0.448418</td>\n",
       "      <td>0.427409</td>\n",
       "      <td>0.350889</td>\n",
       "    </tr>\n",
       "    <tr>\n",
       "      <th>129</th>\n",
       "      <td>0.706284</td>\n",
       "      <td>0.235952</td>\n",
       "      <td>0.671317</td>\n",
       "      <td>0.025447</td>\n",
       "    </tr>\n",
       "    <tr>\n",
       "      <th>50</th>\n",
       "      <td>0.323094</td>\n",
       "      <td>0.347702</td>\n",
       "      <td>0.411003</td>\n",
       "      <td>0.632305</td>\n",
       "    </tr>\n",
       "  </tbody>\n",
       "</table>\n",
       "</div>"
      ],
      "text/plain": [
       "           ta        tr       vel        rh\n",
       "33   0.692642  0.333361  0.705758  0.618035\n",
       "16   0.553586  0.263474  0.591273  0.280329\n",
       "43   0.446348  0.448418  0.427409  0.350889\n",
       "129  0.706284  0.235952  0.671317  0.025447\n",
       "50   0.323094  0.347702  0.411003  0.632305"
      ]
     },
     "execution_count": 41,
     "metadata": {},
     "output_type": "execute_result"
    }
   ],
   "source": [
    "X_test.head()"
   ]
  },
  {
   "cell_type": "code",
   "execution_count": 42,
   "metadata": {},
   "outputs": [
    {
     "data": {
      "text/html": [
       "<div>\n",
       "<style scoped>\n",
       "    .dataframe tbody tr th:only-of-type {\n",
       "        vertical-align: middle;\n",
       "    }\n",
       "\n",
       "    .dataframe tbody tr th {\n",
       "        vertical-align: top;\n",
       "    }\n",
       "\n",
       "    .dataframe thead th {\n",
       "        text-align: right;\n",
       "    }\n",
       "</style>\n",
       "<table border=\"1\" class=\"dataframe\">\n",
       "  <thead>\n",
       "    <tr style=\"text-align: right;\">\n",
       "      <th></th>\n",
       "      <th>ta</th>\n",
       "      <th>tr</th>\n",
       "      <th>vel</th>\n",
       "      <th>rh</th>\n",
       "      <th>pmvg_est</th>\n",
       "      <th>pmvg</th>\n",
       "    </tr>\n",
       "  </thead>\n",
       "  <tbody>\n",
       "    <tr>\n",
       "      <th>13</th>\n",
       "      <td>0.580840</td>\n",
       "      <td>0.456573</td>\n",
       "      <td>0.675392</td>\n",
       "      <td>0.506063</td>\n",
       "      <td>-0.429385</td>\n",
       "      <td>-0.425102</td>\n",
       "    </tr>\n",
       "    <tr>\n",
       "      <th>102</th>\n",
       "      <td>0.676664</td>\n",
       "      <td>0.347735</td>\n",
       "      <td>0.148057</td>\n",
       "      <td>0.275927</td>\n",
       "      <td>-0.003960</td>\n",
       "      <td>-0.119385</td>\n",
       "    </tr>\n",
       "    <tr>\n",
       "      <th>67</th>\n",
       "      <td>0.624846</td>\n",
       "      <td>0.490115</td>\n",
       "      <td>0.389848</td>\n",
       "      <td>0.507733</td>\n",
       "      <td>0.099354</td>\n",
       "      <td>0.024559</td>\n",
       "    </tr>\n",
       "    <tr>\n",
       "      <th>34</th>\n",
       "      <td>0.489663</td>\n",
       "      <td>0.382493</td>\n",
       "      <td>0.628021</td>\n",
       "      <td>0.800314</td>\n",
       "      <td>-0.511791</td>\n",
       "      <td>-0.556970</td>\n",
       "    </tr>\n",
       "    <tr>\n",
       "      <th>98</th>\n",
       "      <td>0.848655</td>\n",
       "      <td>0.516771</td>\n",
       "      <td>0.081011</td>\n",
       "      <td>0.708166</td>\n",
       "      <td>0.541918</td>\n",
       "      <td>0.703390</td>\n",
       "    </tr>\n",
       "  </tbody>\n",
       "</table>\n",
       "</div>"
      ],
      "text/plain": [
       "           ta        tr       vel        rh  pmvg_est      pmvg\n",
       "13   0.580840  0.456573  0.675392  0.506063 -0.429385 -0.425102\n",
       "102  0.676664  0.347735  0.148057  0.275927 -0.003960 -0.119385\n",
       "67   0.624846  0.490115  0.389848  0.507733  0.099354  0.024559\n",
       "34   0.489663  0.382493  0.628021  0.800314 -0.511791 -0.556970\n",
       "98   0.848655  0.516771  0.081011  0.708166  0.541918  0.703390"
      ]
     },
     "execution_count": 42,
     "metadata": {},
     "output_type": "execute_result"
    }
   ],
   "source": [
    "X_train.head()"
   ]
  },
  {
   "cell_type": "code",
   "execution_count": 43,
   "metadata": {
    "scrolled": true
   },
   "outputs": [
    {
     "data": {
      "text/html": [
       "<div>\n",
       "<style scoped>\n",
       "    .dataframe tbody tr th:only-of-type {\n",
       "        vertical-align: middle;\n",
       "    }\n",
       "\n",
       "    .dataframe tbody tr th {\n",
       "        vertical-align: top;\n",
       "    }\n",
       "\n",
       "    .dataframe thead th {\n",
       "        text-align: right;\n",
       "    }\n",
       "</style>\n",
       "<table border=\"1\" class=\"dataframe\">\n",
       "  <thead>\n",
       "    <tr style=\"text-align: right;\">\n",
       "      <th></th>\n",
       "      <th>ta</th>\n",
       "      <th>tr</th>\n",
       "      <th>vel</th>\n",
       "      <th>rh</th>\n",
       "      <th>pmvg_est</th>\n",
       "      <th>pmvg</th>\n",
       "    </tr>\n",
       "  </thead>\n",
       "  <tbody>\n",
       "    <tr>\n",
       "      <th>33</th>\n",
       "      <td>0.692642</td>\n",
       "      <td>0.333361</td>\n",
       "      <td>0.705758</td>\n",
       "      <td>0.618035</td>\n",
       "      <td>-0.375252</td>\n",
       "      <td>-0.313147</td>\n",
       "    </tr>\n",
       "    <tr>\n",
       "      <th>16</th>\n",
       "      <td>0.553586</td>\n",
       "      <td>0.263474</td>\n",
       "      <td>0.591273</td>\n",
       "      <td>0.280329</td>\n",
       "      <td>-0.762058</td>\n",
       "      <td>-0.711406</td>\n",
       "    </tr>\n",
       "    <tr>\n",
       "      <th>43</th>\n",
       "      <td>0.446348</td>\n",
       "      <td>0.448418</td>\n",
       "      <td>0.427409</td>\n",
       "      <td>0.350889</td>\n",
       "      <td>-0.411058</td>\n",
       "      <td>-0.292727</td>\n",
       "    </tr>\n",
       "    <tr>\n",
       "      <th>129</th>\n",
       "      <td>0.706284</td>\n",
       "      <td>0.235952</td>\n",
       "      <td>0.671317</td>\n",
       "      <td>0.025447</td>\n",
       "      <td>-0.846707</td>\n",
       "      <td>-0.595573</td>\n",
       "    </tr>\n",
       "    <tr>\n",
       "      <th>50</th>\n",
       "      <td>0.323094</td>\n",
       "      <td>0.347702</td>\n",
       "      <td>0.411003</td>\n",
       "      <td>0.632305</td>\n",
       "      <td>-0.669160</td>\n",
       "      <td>-0.463924</td>\n",
       "    </tr>\n",
       "  </tbody>\n",
       "</table>\n",
       "</div>"
      ],
      "text/plain": [
       "           ta        tr       vel        rh  pmvg_est      pmvg\n",
       "33   0.692642  0.333361  0.705758  0.618035 -0.375252 -0.313147\n",
       "16   0.553586  0.263474  0.591273  0.280329 -0.762058 -0.711406\n",
       "43   0.446348  0.448418  0.427409  0.350889 -0.411058 -0.292727\n",
       "129  0.706284  0.235952  0.671317  0.025447 -0.846707 -0.595573\n",
       "50   0.323094  0.347702  0.411003  0.632305 -0.669160 -0.463924"
      ]
     },
     "execution_count": 43,
     "metadata": {},
     "output_type": "execute_result"
    }
   ],
   "source": [
    "data_teste = X_test\n",
    "data_teste['pmvg_est'] = final_preds_teste\n",
    "data_teste['pmvg'] = y_test\n",
    "data_teste.head()"
   ]
  },
  {
   "cell_type": "code",
   "execution_count": 44,
   "metadata": {},
   "outputs": [
    {
     "data": {
      "text/plain": [
       "0.08805795027929432"
      ]
     },
     "execution_count": 44,
     "metadata": {},
     "output_type": "execute_result"
    }
   ],
   "source": [
    "median_absolute_error(data_teste['pmvg_est'], data_teste['pmvg'])"
   ]
  },
  {
   "cell_type": "markdown",
   "metadata": {},
   "source": [
    "### Aplicação do modelo em todos os dados e salvando os resultados"
   ]
  },
  {
   "cell_type": "code",
   "execution_count": 45,
   "metadata": {},
   "outputs": [],
   "source": [
    "data_todos = pd.concat([data_treino, data_teste], sort=False)"
   ]
  },
  {
   "cell_type": "code",
   "execution_count": 46,
   "metadata": {},
   "outputs": [
    {
     "data": {
      "text/html": [
       "<div>\n",
       "<style scoped>\n",
       "    .dataframe tbody tr th:only-of-type {\n",
       "        vertical-align: middle;\n",
       "    }\n",
       "\n",
       "    .dataframe tbody tr th {\n",
       "        vertical-align: top;\n",
       "    }\n",
       "\n",
       "    .dataframe thead th {\n",
       "        text-align: right;\n",
       "    }\n",
       "</style>\n",
       "<table border=\"1\" class=\"dataframe\">\n",
       "  <thead>\n",
       "    <tr style=\"text-align: right;\">\n",
       "      <th></th>\n",
       "      <th>ta</th>\n",
       "      <th>tr</th>\n",
       "      <th>vel</th>\n",
       "      <th>rh</th>\n",
       "      <th>pmvg_est</th>\n",
       "      <th>pmvg</th>\n",
       "    </tr>\n",
       "  </thead>\n",
       "  <tbody>\n",
       "    <tr>\n",
       "      <th>13</th>\n",
       "      <td>0.580840</td>\n",
       "      <td>0.456573</td>\n",
       "      <td>0.675392</td>\n",
       "      <td>0.506063</td>\n",
       "      <td>-0.429385</td>\n",
       "      <td>-0.425102</td>\n",
       "    </tr>\n",
       "    <tr>\n",
       "      <th>102</th>\n",
       "      <td>0.676664</td>\n",
       "      <td>0.347735</td>\n",
       "      <td>0.148057</td>\n",
       "      <td>0.275927</td>\n",
       "      <td>-0.003960</td>\n",
       "      <td>-0.119385</td>\n",
       "    </tr>\n",
       "    <tr>\n",
       "      <th>67</th>\n",
       "      <td>0.624846</td>\n",
       "      <td>0.490115</td>\n",
       "      <td>0.389848</td>\n",
       "      <td>0.507733</td>\n",
       "      <td>0.099354</td>\n",
       "      <td>0.024559</td>\n",
       "    </tr>\n",
       "    <tr>\n",
       "      <th>34</th>\n",
       "      <td>0.489663</td>\n",
       "      <td>0.382493</td>\n",
       "      <td>0.628021</td>\n",
       "      <td>0.800314</td>\n",
       "      <td>-0.511791</td>\n",
       "      <td>-0.556970</td>\n",
       "    </tr>\n",
       "    <tr>\n",
       "      <th>98</th>\n",
       "      <td>0.848655</td>\n",
       "      <td>0.516771</td>\n",
       "      <td>0.081011</td>\n",
       "      <td>0.708166</td>\n",
       "      <td>0.541918</td>\n",
       "      <td>0.703390</td>\n",
       "    </tr>\n",
       "  </tbody>\n",
       "</table>\n",
       "</div>"
      ],
      "text/plain": [
       "           ta        tr       vel        rh  pmvg_est      pmvg\n",
       "13   0.580840  0.456573  0.675392  0.506063 -0.429385 -0.425102\n",
       "102  0.676664  0.347735  0.148057  0.275927 -0.003960 -0.119385\n",
       "67   0.624846  0.490115  0.389848  0.507733  0.099354  0.024559\n",
       "34   0.489663  0.382493  0.628021  0.800314 -0.511791 -0.556970\n",
       "98   0.848655  0.516771  0.081011  0.708166  0.541918  0.703390"
      ]
     },
     "execution_count": 46,
     "metadata": {},
     "output_type": "execute_result"
    }
   ],
   "source": [
    "data_todos.head()"
   ]
  },
  {
   "cell_type": "code",
   "execution_count": 47,
   "metadata": {},
   "outputs": [],
   "source": [
    "# data_todos.reset_index()\n",
    "# data_todos.head()"
   ]
  },
  {
   "cell_type": "code",
   "execution_count": 48,
   "metadata": {},
   "outputs": [
    {
     "data": {
      "text/plain": [
       "0.080511491044732"
      ]
     },
     "execution_count": 48,
     "metadata": {},
     "output_type": "execute_result"
    }
   ],
   "source": [
    "median_absolute_error(data_todos['pmvg_est'], data_todos['pmvg'])"
   ]
  },
  {
   "cell_type": "code",
   "execution_count": 49,
   "metadata": {},
   "outputs": [],
   "source": [
    "# data_todos.index.name = 'id'\n",
    "# data_todos.reset_index(inplace=True)"
   ]
  },
  {
   "cell_type": "code",
   "execution_count": 50,
   "metadata": {},
   "outputs": [],
   "source": [
    "res1 = pd.ExcelWriter('res3.xlsx')\n",
    "data_todos.to_excel(res1,'dados',index=False)\n",
    "res1.save()"
   ]
  },
  {
   "cell_type": "markdown",
   "metadata": {},
   "source": [
    "# Desliga cronômetro"
   ]
  },
  {
   "cell_type": "code",
   "execution_count": 51,
   "metadata": {},
   "outputs": [
    {
     "name": "stdout",
     "output_type": "stream",
     "text": [
      "36.4957784\n"
     ]
    }
   ],
   "source": [
    "fim = perf_counter()\n",
    "print(fim - inicio)"
   ]
  }
 ],
 "metadata": {
  "kernelspec": {
   "display_name": "Python 3",
   "language": "python",
   "name": "python3"
  },
  "language_info": {
   "codemirror_mode": {
    "name": "ipython",
    "version": 3
   },
   "file_extension": ".py",
   "mimetype": "text/x-python",
   "name": "python",
   "nbconvert_exporter": "python",
   "pygments_lexer": "ipython3",
   "version": "3.7.1"
  }
 },
 "nbformat": 4,
 "nbformat_minor": 4
}
